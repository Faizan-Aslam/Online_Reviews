{
 "cells": [
  {
   "cell_type": "code",
   "execution_count": null,
   "id": "ab6c986a",
   "metadata": {},
   "outputs": [],
   "source": [
    "!pip install wordcloud"
   ]
  },
  {
   "cell_type": "code",
   "execution_count": null,
   "id": "e9e38962",
   "metadata": {
    "scrolled": true
   },
   "outputs": [],
   "source": [
    "import pandas as pd\n",
    "from wordcloud import WordCloud, STOPWORDS"
   ]
  },
  {
   "cell_type": "code",
   "execution_count": null,
   "id": "d18e5cdd",
   "metadata": {},
   "outputs": [],
   "source": [
    "df = pd.read_csv(\"GrammarandProductReviews.csv/GrammarandProductReviews.csv\")\n",
    "df.head(5)"
   ]
  },
  {
   "cell_type": "code",
   "execution_count": null,
   "id": "da90e540",
   "metadata": {},
   "outputs": [],
   "source": [
    "df.shape"
   ]
  },
  {
   "cell_type": "code",
   "execution_count": null,
   "id": "488c4b7a",
   "metadata": {},
   "outputs": [],
   "source": [
    "df.isnull().sum()"
   ]
  },
  {
   "cell_type": "code",
   "execution_count": null,
   "id": "4d897dd4",
   "metadata": {},
   "outputs": [],
   "source": [
    "df.dtypes\n"
   ]
  },
  {
   "cell_type": "code",
   "execution_count": null,
   "id": "8e3bafcc",
   "metadata": {},
   "outputs": [],
   "source": [
    "df.count()"
   ]
  },
  {
   "cell_type": "code",
   "execution_count": null,
   "id": "57fddeff",
   "metadata": {},
   "outputs": [],
   "source": [
    "df.drop([\"id\", \"ean\", \"manufacturerNumber\", \"dateAdded\", \"dateUpdated\" , \"keys\", \"reviews.dateAdded\", \"reviews.dateSeen\", \"reviews.userCity\", \n",
    "\"reviews.userProvince\"], axis=1, inplace=True)"
   ]
  },
  {
   "cell_type": "code",
   "execution_count": null,
   "id": "a0a12956",
   "metadata": {},
   "outputs": [],
   "source": [
    "df.drop([\"reviews.id\", \"reviews.numHelpful\", \"upc\"], axis=1, inplace=True)"
   ]
  },
  {
   "cell_type": "code",
   "execution_count": null,
   "id": "005cfa5c",
   "metadata": {},
   "outputs": [],
   "source": [
    "df.head()"
   ]
  },
  {
   "cell_type": "code",
   "execution_count": null,
   "id": "8df892cc",
   "metadata": {},
   "outputs": [],
   "source": [
    "df.nunique()"
   ]
  },
  {
   "cell_type": "code",
   "execution_count": null,
   "id": "cb940000",
   "metadata": {},
   "outputs": [],
   "source": [
    "df.drop([\"reviews.username\"], axis=1, inplace=True)"
   ]
  },
  {
   "cell_type": "code",
   "execution_count": null,
   "id": "40f34af4",
   "metadata": {},
   "outputs": [],
   "source": [
    "df.head()"
   ]
  },
  {
   "cell_type": "code",
   "execution_count": null,
   "id": "9d84fb2a",
   "metadata": {},
   "outputs": [],
   "source": [
    "df.isnull().sum()"
   ]
  },
  {
   "cell_type": "code",
   "execution_count": null,
   "id": "794b5aa3",
   "metadata": {
    "scrolled": true
   },
   "outputs": [],
   "source": [
    "df.value_counts().head()"
   ]
  },
  {
   "cell_type": "code",
   "execution_count": null,
   "id": "3f3017bf",
   "metadata": {},
   "outputs": [],
   "source": [
    "import matplotlib.pyplot as plt\n",
    "import seaborn as sns\n"
   ]
  },
  {
   "cell_type": "code",
   "execution_count": null,
   "id": "5acef228",
   "metadata": {},
   "outputs": [],
   "source": [
    "dfl = df.groupby([\"reviews.rating\",\"reviews.didPurchase\"]).count()['reviews.text'].reset_index().sort_values(by = 'reviews.rating', ascending=False)\n",
    "dfl"
   ]
  },
  {
   "cell_type": "code",
   "execution_count": null,
   "id": "3b4f47a5",
   "metadata": {
    "scrolled": false
   },
   "outputs": [],
   "source": [
    "import plotly.express as px\n",
    "fig = px.bar(dfl, x=\"reviews.rating\", y=\"reviews.text\",\n",
    "             color=\"reviews.didPurchase\", barmode=\"group\", title=\"Common Words in Text\", orientation='v',  labels={\n",
    "                     \"reviews.rating\": \"Ratings\",\n",
    "                     \"reviews.text\": \"Number of Reviews\",\n",
    "                     \"reviews.didPurchase\": \"Product Purchased\"\n",
    "                 })\n",
    "fig.show()"
   ]
  },
  {
   "cell_type": "code",
   "execution_count": null,
   "id": "7c89c506",
   "metadata": {},
   "outputs": [],
   "source": [
    "df = df.dropna(subset=['reviews.text'])"
   ]
  },
  {
   "cell_type": "code",
   "execution_count": null,
   "id": "bb998d51",
   "metadata": {},
   "outputs": [],
   "source": [
    "cleaned_df = df.loc[df[\"reviews.title\"].notnull()][\"reviews.title\"] \n",
    "                                                     \n",
    "cleaned_df.head()"
   ]
  },
  {
   "cell_type": "code",
   "execution_count": null,
   "id": "4f4871d1",
   "metadata": {},
   "outputs": [],
   "source": [
    "text2 = \" \".join(title for title in cleaned_df)\n",
    "stopwords = set(STOPWORDS)\n",
    "\n",
    "# Creating word_cloud with text as argument in .generate() method\n",
    "\n",
    "word_cloud2 = WordCloud(collocations = False,\n",
    "                        background_color = 'white',\n",
    "                        stopwords=stopwords,\n",
    "                        max_words=200,\n",
    "                        max_font_size=40, \n",
    "                        scale=2,\n",
    "                        random_state=1\n",
    "                       ).generate(text2)\n",
    "\n",
    "# Display the generated Word Cloud\n",
    "fig = plt.figure(1, figsize=(15, 15))\n",
    "plt.imshow(word_cloud2, interpolation='bilinear')\n",
    "\n",
    "plt.axis(\"off\")\n",
    "\n",
    "plt.show()"
   ]
  },
  {
   "cell_type": "code",
   "execution_count": null,
   "id": "e64b49ac",
   "metadata": {},
   "outputs": [],
   "source": [
    "text2 = \" \".join(title for title in df[\"reviews.text\"])\n",
    "stopwords = set(STOPWORDS)\n",
    "\n",
    "# Creating word_cloud with text as argument in .generate() method\n",
    "\n",
    "word_cloud2 = WordCloud(collocations = False,\n",
    "                        background_color = 'white',\n",
    "                        stopwords=stopwords,\n",
    "                        max_words=200,\n",
    "                        max_font_size=40, \n",
    "                        scale=3,\n",
    "                        random_state=1\n",
    "                       ).generate(text2)\n",
    "\n",
    "# Display the generated Word Cloud\n",
    "fig = plt.figure(1, figsize=(15, 15))\n",
    "plt.imshow(word_cloud2, interpolation='bilinear')\n",
    "\n",
    "plt.axis(\"off\")\n",
    "\n",
    "plt.show()"
   ]
  },
  {
   "cell_type": "code",
   "execution_count": null,
   "id": "a6ed4886",
   "metadata": {},
   "outputs": [],
   "source": [
    "dfw = df.groupby([\"reviews.rating\",\"reviews.doRecommend\"]).count()['reviews.text'].reset_index().sort_values(by = 'reviews.rating', ascending=False)\n",
    "dfw"
   ]
  },
  {
   "cell_type": "code",
   "execution_count": null,
   "id": "33e9662b",
   "metadata": {},
   "outputs": [],
   "source": [
    "fig = px.bar(dfw, x=\"reviews.rating\", y=\"reviews.text\",\n",
    "             color=\"reviews.doRecommend\", barmode=\"group\", title=\"Common Words in Text\", orientation='v',  labels={\n",
    "                     \"reviews.rating\": \"Ratings\",\n",
    "                     \"reviews.text\": \"Number of Reviews\",\n",
    "                     \"reviews.doRecommend\": \"Recommended\"\n",
    "                 })\n",
    "fig.show()"
   ]
  },
  {
   "cell_type": "code",
   "execution_count": null,
   "id": "d9c51933",
   "metadata": {},
   "outputs": [],
   "source": [
    "df_brands = df.groupby([\"brand\"]).count()['reviews.text'].reset_index().sort_values(by = 'reviews.text', ascending=False)\n",
    "df_brands"
   ]
  },
  {
   "cell_type": "code",
   "execution_count": null,
   "id": "f8364adf",
   "metadata": {},
   "outputs": [],
   "source": [
    "values = df_brands[df_brands[\"reviews.text\"]<20][\"brand\"]\n"
   ]
  },
  {
   "cell_type": "code",
   "execution_count": null,
   "id": "4303447e",
   "metadata": {},
   "outputs": [],
   "source": [
    "dft = df[df[\"brand\"].isin(values) == False]"
   ]
  },
  {
   "cell_type": "code",
   "execution_count": null,
   "id": "2075f639",
   "metadata": {},
   "outputs": [],
   "source": [
    "df_brands_updated = dft.groupby([\"brand\"]).count()['reviews.text'].reset_index().sort_values(by = 'reviews.text', ascending=False)"
   ]
  },
  {
   "cell_type": "code",
   "execution_count": null,
   "id": "5f13c8d4",
   "metadata": {},
   "outputs": [],
   "source": [
    "df_brands_updated"
   ]
  },
  {
   "cell_type": "code",
   "execution_count": null,
   "id": "e80e4627",
   "metadata": {},
   "outputs": [],
   "source": [
    "dft.categories.unique()"
   ]
  },
  {
   "cell_type": "code",
   "execution_count": null,
   "id": "c1cb8aec",
   "metadata": {},
   "outputs": [],
   "source": [
    "dft.nunique()"
   ]
  },
  {
   "cell_type": "code",
   "execution_count": null,
   "id": "5f531990",
   "metadata": {},
   "outputs": [],
   "source": [
    "df_b = dft.groupby(\"brand\").mean().reset_index().sort_values(by= \"reviews.rating\", ascending=False)\n",
    "df_b"
   ]
  },
  {
   "cell_type": "code",
   "execution_count": null,
   "id": "ae93e3e1",
   "metadata": {},
   "outputs": [],
   "source": [
    "fig = px.bar(df_b, x=\"reviews.rating\", y=\"brand\",\n",
    "  title=\"Common Words in Text\", orientation='h',  labels={\n",
    "                     \"reviews.rating\": \"Average Ratings\",\n",
    "                     \"brand\": \"Brands\",\n",
    "                 })\n",
    "fig.show()"
   ]
  },
  {
   "cell_type": "code",
   "execution_count": null,
   "id": "8e042a55",
   "metadata": {},
   "outputs": [],
   "source": [
    "dft_food=dft[dft.categories.str.startswith(\"Food\")]\n",
    "dft_food.brand.nunique()"
   ]
  },
  {
   "cell_type": "code",
   "execution_count": null,
   "id": "81574701",
   "metadata": {},
   "outputs": [],
   "source": [
    "dft_food_g = dft_food.groupby([\"brand\"]).mean().reset_index().sort_values(by= \"reviews.rating\", ascending=False)\n",
    "dft_food_g"
   ]
  },
  {
   "cell_type": "code",
   "execution_count": null,
   "id": "41be0964",
   "metadata": {},
   "outputs": [],
   "source": [
    "fig = px.bar(dft_food_g, x=\"reviews.rating\", y=\"brand\",\n",
    "  title=\"Common Words in Text\", orientation='h',  labels={\n",
    "                     \"reviews.rating\": \"Average Ratings\",\n",
    "                     \"brand\": \"Brands\",\n",
    "                 })\n",
    "fig.show()"
   ]
  },
  {
   "cell_type": "code",
   "execution_count": null,
   "id": "fc632589",
   "metadata": {},
   "outputs": [],
   "source": [
    "from sklearn.feature_extraction.text import TfidfVectorizer\n",
    "from scipy.sparse import hstack"
   ]
  },
  {
   "cell_type": "code",
   "execution_count": null,
   "id": "035d830e",
   "metadata": {},
   "outputs": [],
   "source": [
    "df[\"reviews.text\"] = df[\"reviews.text\"] + \" \" + df[\"reviews.title\"].astype(str)"
   ]
  },
  {
   "cell_type": "code",
   "execution_count": null,
   "id": "b2c0f015",
   "metadata": {},
   "outputs": [],
   "source": [
    "df.iloc[7][\"reviews.text\"]\n"
   ]
  },
  {
   "cell_type": "code",
   "execution_count": null,
   "id": "87e4675f",
   "metadata": {},
   "outputs": [],
   "source": [
    "text_data = df[\"reviews.text\"]\n",
    "target = df[\"reviews.rating\"]"
   ]
  },
  {
   "cell_type": "code",
   "execution_count": null,
   "id": "c87213dd",
   "metadata": {},
   "outputs": [],
   "source": [
    "vectorizer_word = TfidfVectorizer(\n",
    "            sublinear_tf=True,\n",
    "            strip_accents= \"unicode\",\n",
    "            stop_words=\"english\",\n",
    "            ngram_range= (1,1),\n",
    "            max_features= 1000)\n",
    "\n",
    "vectorizer.fit(text_data)\n",
    "feature_vectors_word = vectorizer.transform(text_data)\n"
   ]
  },
  {
   "cell_type": "code",
   "execution_count": null,
   "id": "a2b00abe",
   "metadata": {},
   "outputs": [],
   "source": [
    "vectorizer_char = TfidfVectorizer(\n",
    "    sublinear_tf=True,\n",
    "    strip_accents='unicode',\n",
    "    analyzer='char',\n",
    "    ngram_range=(2, 4),\n",
    "    max_features=10000)\n",
    "vectorizer_char.fit(text_data)\n",
    "feature_vectors_char = vectorizer_char.transform(text_data)\n",
    "\n",
    "\n",
    "feature_vectors =  hstack([feature_vectors_word, feature_vectors_char])"
   ]
  },
  {
   "cell_type": "code",
   "execution_count": null,
   "id": "9a805f2b",
   "metadata": {},
   "outputs": [],
   "source": [
    "from sklearn.model_selection import train_test_split\n",
    "X_train, X_test, y_train, y_test = train_test_split(feature_vectors, target,test_size=0.2)"
   ]
  },
  {
   "cell_type": "code",
   "execution_count": null,
   "id": "1abac3e6",
   "metadata": {},
   "outputs": [],
   "source": [
    "from sklearn.ensemble import RandomForestClassifier\n",
    "\n",
    "model = RandomForestClassifier()\n",
    "# model.fit(X_train, y_train)\n",
    "\n",
    "# predictions = model.predict(X_test)\n",
    "\n"
   ]
  },
  {
   "cell_type": "code",
   "execution_count": null,
   "id": "f33238f1",
   "metadata": {},
   "outputs": [],
   "source": [
    "from sklearn.model_selection import GridSearchCV"
   ]
  },
  {
   "cell_type": "code",
   "execution_count": null,
   "id": "9db4095c",
   "metadata": {},
   "outputs": [],
   "source": [
    "# Create the grid parameter:\n",
    "grid_rf = {'n_estimators': [100, 120, 150],\n",
    "           'criterion': ['entropy', 'gini'], \n",
    "           'max_depth': [None,1,3,5,7,9],\n",
    "           'max_features': range(1,11),  \n",
    "           'min_samples_split': range(2, 10),\n",
    "           'min_samples_leaf': [1,3,5]}\n",
    "\n",
    "# Create the grid:\n",
    "gs_rf = GridSearchCV(model, grid_rf, cv=3, n_jobs=-1)\n",
    "\n",
    "# Fit using grid search:\n",
    "gs_rf.fit(X_train, y_train)\n",
    "\n",
    "# Print best accuracy and best parameters:\n",
    "print('Best accuracy: %.3f' % gs_rf.best_score_)\n",
    "print('\\nBest params:\\n', gs_rf.best_params_)"
   ]
  },
  {
   "cell_type": "code",
   "execution_count": null,
   "id": "cd6f83ce",
   "metadata": {},
   "outputs": [],
   "source": [
    "from sklearn.metrics import accuracy_score"
   ]
  },
  {
   "cell_type": "code",
   "execution_count": null,
   "id": "98e551e6",
   "metadata": {},
   "outputs": [],
   "source": [
    "accuracy_random_forest = accuracy_score(predictions,y_test)\n",
    "print(accuracy_random_forest)"
   ]
  }
 ],
 "metadata": {
  "kernelspec": {
   "display_name": "venv",
   "language": "python",
   "name": "venv"
  },
  "language_info": {
   "codemirror_mode": {
    "name": "ipython",
    "version": 3
   },
   "file_extension": ".py",
   "mimetype": "text/x-python",
   "name": "python",
   "nbconvert_exporter": "python",
   "pygments_lexer": "ipython3",
   "version": "3.8.1"
  }
 },
 "nbformat": 4,
 "nbformat_minor": 5
}
